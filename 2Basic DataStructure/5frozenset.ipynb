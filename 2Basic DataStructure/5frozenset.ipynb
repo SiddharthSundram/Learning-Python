{
 "cells": [
  {
   "cell_type": "code",
   "execution_count": 2,
   "metadata": {},
   "outputs": [
    {
     "name": "stdout",
     "output_type": "stream",
     "text": [
      "frozenset({'perl', 'kotlin', 'java', 'cpp'}) <class 'frozenset'> 4 2088648304096\n",
      "frozenset({'python', 'spiderman', 'ironman', 'captin'}) <class 'frozenset'> 4 2088648302976\n",
      "frozenset({'python', 'kotlin', 'cpp', 'perl', 'ironman', 'spiderman', 'java', 'captin'}) <class 'frozenset'> 8 2088648303424\n",
      "frozenset({'python', 'kotlin', 'cpp', 'perl', 'ironman', 'spiderman', 'java', 'captin'}) <class 'frozenset'> 8 2088649593280\n"
     ]
    }
   ],
   "source": [
    "lang = frozenset(['cpp','java','kotlin','perl'])\n",
    "print(lang,type(lang),len(lang),id(lang))\n",
    "\n",
    "avg = frozenset(['python','ironman','captin','spiderman'])\n",
    "print(avg,type(avg),len(avg),id(avg))\n",
    "\n",
    "result = lang.union(avg)\n",
    "print(result,type(result),len(result),id(result))\n",
    "\n",
    "result = lang | avg \n",
    "print(result,type(result),len(result),id(result))"
   ]
  },
  {
   "cell_type": "code",
   "execution_count": 1,
   "metadata": {},
   "outputs": [
    {
     "name": "stdout",
     "output_type": "stream",
     "text": [
      "frozenset({'perl', 'kotlin', 'java', 'cpp'}) <class 'frozenset'> 4 2088648302976\n",
      "frozenset({'python', 'spiderman', 'ironman', 'captin'}) <class 'frozenset'> 4 2088648303424\n",
      "frozenset() <class 'frozenset'> 0 2088648304096\n",
      "frozenset() <class 'frozenset'> 0 2088649593280\n"
     ]
    }
   ],
   "source": [
    "lang = frozenset(['cpp','java','kotlin','perl'])\n",
    "print(lang,type(lang),len(lang),id(lang))\n",
    "\n",
    "avg = frozenset(['python','ironman','captin','spiderman'])\n",
    "print(avg,type(avg),len(avg),id(avg))\n",
    "\n",
    "result = lang.intersection(avg)\n",
    "print(result,type(result),len(result),id(result))\n",
    "\n",
    "result = lang & avg \n",
    "print(result,type(result),len(result),id(result))"
   ]
  },
  {
   "cell_type": "code",
   "execution_count": 3,
   "metadata": {},
   "outputs": [
    {
     "name": "stdout",
     "output_type": "stream",
     "text": [
      "frozenset({'perl', 'kotlin', 'java', 'cpp'}) <class 'frozenset'> 4 2088648303200\n",
      "frozenset({'python', 'spiderman', 'ironman', 'captin'}) <class 'frozenset'> 4 2088648304096\n",
      "frozenset({'perl', 'kotlin', 'java', 'cpp'}) <class 'frozenset'> 4 2088648302976\n",
      "frozenset({'perl', 'kotlin', 'java', 'cpp'}) <class 'frozenset'> 4 2088649593280\n"
     ]
    }
   ],
   "source": [
    "lang = frozenset(['cpp','java','kotlin','perl'])\n",
    "print(lang,type(lang),len(lang),id(lang))\n",
    "\n",
    "avg = frozenset(['python','ironman','captin','spiderman'])\n",
    "print(avg,type(avg),len(avg),id(avg))\n",
    "\n",
    "result = lang.difference(avg)\n",
    "print(result,type(result),len(result),id(result))\n",
    "\n",
    "result = lang- avg \n",
    "print(result,type(result),len(result),id(result))"
   ]
  },
  {
   "cell_type": "code",
   "execution_count": 4,
   "metadata": {},
   "outputs": [
    {
     "name": "stdout",
     "output_type": "stream",
     "text": [
      "frozenset({'perl', 'kotlin', 'java', 'cpp'}) <class 'frozenset'> 4 2088648303424\n",
      "frozenset({'python', 'spiderman', 'ironman', 'captin'}) <class 'frozenset'> 4 2088648303200\n",
      "frozenset({'python', 'kotlin', 'cpp', 'perl', 'ironman', 'spiderman', 'java', 'captin'}) <class 'frozenset'> 8 2088648304096\n",
      "frozenset({'python', 'kotlin', 'cpp', 'perl', 'ironman', 'spiderman', 'java', 'captin'}) <class 'frozenset'> 8 2088649593280\n"
     ]
    }
   ],
   "source": [
    "lang = frozenset(['cpp','java','kotlin','perl'])\n",
    "print(lang,type(lang),len(lang),id(lang))\n",
    "\n",
    "avg = frozenset(['python','ironman','captin','spiderman'])\n",
    "print(avg,type(avg),len(avg),id(avg))\n",
    "\n",
    "result = lang.symmetric_difference(avg)\n",
    "print(result,type(result),len(result),id(result))\n",
    "\n",
    "result = lang ^ avg \n",
    "print(result,type(result),len(result),id(result))"
   ]
  },
  {
   "cell_type": "code",
   "execution_count": null,
   "metadata": {},
   "outputs": [],
   "source": []
  }
 ],
 "metadata": {
  "kernelspec": {
   "display_name": "Python 3",
   "language": "python",
   "name": "python3"
  },
  "language_info": {
   "codemirror_mode": {
    "name": "ipython",
    "version": 3
   },
   "file_extension": ".py",
   "mimetype": "text/x-python",
   "name": "python",
   "nbconvert_exporter": "python",
   "pygments_lexer": "ipython3",
   "version": "3.10.8"
  }
 },
 "nbformat": 4,
 "nbformat_minor": 2
}

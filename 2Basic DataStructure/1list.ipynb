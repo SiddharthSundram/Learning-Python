{
 "cells": [
  {
   "cell_type": "markdown",
   "metadata": {},
   "source": [
    "# List"
   ]
  },
  {
   "cell_type": "code",
   "execution_count": 23,
   "metadata": {},
   "outputs": [
    {
     "name": "stdout",
     "output_type": "stream",
     "text": [
      "['Siddharth', 'Gaurav', 'Saptrashi', 'Pallavi', 'Jhilik', 'Ankita']\n",
      "Gaurav\n",
      "Pallavi\n",
      "Jhilik\n",
      "Siddharth\n",
      "Saptrashi\n",
      "Ankita\n"
     ]
    }
   ],
   "source": [
    "friends = ['Siddharth','Gaurav','Saptrashi','Pallavi','Jhilik','Ankita']\n",
    "print(friends)\n",
    "print(friends[1])\n",
    "print(friends[3])\n",
    "print(friends[-2])\n",
    "print(friends[-len(friends)])\n",
    "print(friends[-4])\n",
    "print(friends[-1])"
   ]
  },
  {
   "cell_type": "code",
   "execution_count": 24,
   "metadata": {},
   "outputs": [
    {
     "name": "stdout",
     "output_type": "stream",
     "text": [
      "['Siddharth', 'Gaurav', 'Saptrashi', 'Pallavi', 'Jhilik', 'Ankita']\n",
      "['Jhilik', 'Ankita']\n",
      "['Siddharth', 'Gaurav', 'Saptrashi']\n"
     ]
    }
   ],
   "source": [
    "print(friends[0:6])\n",
    "print(friends[4:])\n",
    "print(friends[:3])"
   ]
  },
  {
   "cell_type": "code",
   "execution_count": 25,
   "metadata": {},
   "outputs": [
    {
     "name": "stdout",
     "output_type": "stream",
     "text": [
      "['Siddharth', 'Gobar', 'Saptrashi', 'Pallavi', 'Jhilik', 'Ankita']\n"
     ]
    }
   ],
   "source": [
    "friends[1] = 'Gobar'\n",
    "print(friends)"
   ]
  },
  {
   "cell_type": "code",
   "execution_count": 26,
   "metadata": {},
   "outputs": [
    {
     "name": "stdout",
     "output_type": "stream",
     "text": [
      "['Siddharth', 'A', 'd', 'd', 'e', 'd', 'Saptrashi', 'Pallavi', 'Jhilik', 'Ankita']\n"
     ]
    }
   ],
   "source": [
    "friends[1:2] = 'Added'  # this happen becaurse it treated string as an array that's why it seperate all index and assign while silicng\n",
    "print(friends)"
   ]
  },
  {
   "cell_type": "code",
   "execution_count": 27,
   "metadata": {},
   "outputs": [
    {
     "name": "stdout",
     "output_type": "stream",
     "text": [
      "['Siddharth', 'Added', 'd', 'd', 'e', 'd', 'Saptrashi', 'Pallavi', 'Jhilik', 'Ankita']\n"
     ]
    }
   ],
   "source": [
    "friends[1:2] = ['Added']  # we can resolve that problem just by putting them in []\n",
    "print(friends)"
   ]
  },
  {
   "cell_type": "code",
   "execution_count": 28,
   "metadata": {},
   "outputs": [
    {
     "name": "stdout",
     "output_type": "stream",
     "text": [
      "['Siddharth', 'Added', 'Something', 'd', 'e', 'd', 'Saptrashi', 'Pallavi', 'Jhilik', 'Ankita']\n"
     ]
    }
   ],
   "source": [
    "friends[1:3] = ['Added' , 'Something']  # we can resolve that problem just by putting them in []\n",
    "print(friends)"
   ]
  },
  {
   "cell_type": "code",
   "execution_count": 29,
   "metadata": {},
   "outputs": [
    {
     "data": {
      "text/plain": [
       "['Orange', 'Pineapple', 'Lichi', 'Goauva', 'Pomigranate']"
      ]
     },
     "execution_count": 29,
     "metadata": {},
     "output_type": "execute_result"
    }
   ],
   "source": [
    "fruits = ['Orange', 'Pineapple','Lichi','Goauva','Pomigranate']\n",
    "fruits"
   ]
  },
  {
   "cell_type": "code",
   "execution_count": 30,
   "metadata": {},
   "outputs": [
    {
     "name": "stdout",
     "output_type": "stream",
     "text": [
      "[]\n",
      "['Orange', 'test', 'test', 'Pineapple', 'Lichi', 'Goauva', 'Pomigranate']\n"
     ]
    }
   ],
   "source": [
    "print(fruits[1:1])\n",
    "fruits[1:1] = ['test','test']\n",
    "print(fruits)"
   ]
  },
  {
   "cell_type": "code",
   "execution_count": 31,
   "metadata": {},
   "outputs": [
    {
     "name": "stdout",
     "output_type": "stream",
     "text": [
      "['test']\n",
      "['test', 'test']\n"
     ]
    }
   ],
   "source": [
    "print(fruits[1:2])\n",
    "print(fruits[1:3])\n"
   ]
  },
  {
   "cell_type": "code",
   "execution_count": null,
   "metadata": {},
   "outputs": [
    {
     "name": "stdout",
     "output_type": "stream",
     "text": [
      "['Orange', 'Pineapple', 'Lichi', 'Goauva', 'Pomigranate']\n"
     ]
    }
   ],
   "source": [
    "fruits[1:3] = []\n",
    "print(fruits)"
   ]
  },
  {
   "cell_type": "code",
   "execution_count": 40,
   "metadata": {},
   "outputs": [
    {
     "data": {
      "text/plain": [
       "['Orange', 'Pineapple', 'Goauva', 'Pomigranate', 'lemon', 'lemon']"
      ]
     },
     "execution_count": 40,
     "metadata": {},
     "output_type": "execute_result"
    }
   ],
   "source": [
    "fruits.append('lemon')\n",
    "fruits"
   ]
  },
  {
   "cell_type": "code",
   "execution_count": 41,
   "metadata": {},
   "outputs": [
    {
     "data": {
      "text/plain": [
       "'lemon'"
      ]
     },
     "execution_count": 41,
     "metadata": {},
     "output_type": "execute_result"
    }
   ],
   "source": [
    "fruits.pop()"
   ]
  },
  {
   "cell_type": "code",
   "execution_count": 43,
   "metadata": {},
   "outputs": [
    {
     "data": {
      "text/plain": [
       "['Orange', 'Pineapple', 'Goauva', 'Pomigranate']"
      ]
     },
     "execution_count": 43,
     "metadata": {},
     "output_type": "execute_result"
    }
   ],
   "source": [
    "fruits.remove(\"lemon\")\n",
    "fruits"
   ]
  },
  {
   "cell_type": "code",
   "execution_count": 45,
   "metadata": {},
   "outputs": [
    {
     "data": {
      "text/plain": [
       "['Orange', 'Pineapple', 'lemon', 'Goauva', 'Pomigranate']"
      ]
     },
     "execution_count": 45,
     "metadata": {},
     "output_type": "execute_result"
    }
   ],
   "source": [
    "fruits.insert(2,'lemon')\n",
    "fruits"
   ]
  },
  {
   "cell_type": "markdown",
   "metadata": {},
   "source": [
    "### list comprehension"
   ]
  },
  {
   "cell_type": "code",
   "execution_count": 1,
   "metadata": {},
   "outputs": [
    {
     "name": "stdout",
     "output_type": "stream",
     "text": [
      "[0, 1, 4, 9, 16, 25, 36, 49, 64, 81]\n"
     ]
    }
   ],
   "source": [
    "var = [x ** 2 for x in range(10)]\n",
    "print(var)"
   ]
  },
  {
   "cell_type": "code",
   "execution_count": null,
   "metadata": {},
   "outputs": [],
   "source": []
  }
 ],
 "metadata": {
  "kernelspec": {
   "display_name": "Python 3",
   "language": "python",
   "name": "python3"
  },
  "language_info": {
   "codemirror_mode": {
    "name": "ipython",
    "version": 3
   },
   "file_extension": ".py",
   "mimetype": "text/x-python",
   "name": "python",
   "nbconvert_exporter": "python",
   "pygments_lexer": "ipython3",
   "version": "3.10.8"
  }
 },
 "nbformat": 4,
 "nbformat_minor": 2
}

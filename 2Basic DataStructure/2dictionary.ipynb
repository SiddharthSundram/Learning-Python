{
 "cells": [
  {
   "cell_type": "markdown",
   "metadata": {},
   "source": [
    "# Dictionary"
   ]
  },
  {
   "cell_type": "code",
   "execution_count": 31,
   "metadata": {},
   "outputs": [
    {
     "name": "stdout",
     "output_type": "stream",
     "text": [
      "{'key': 'value', 'name': 'Siddharth', 'age': 20, 'Salary': 10000000, 'expeitment': 'bakra'}\n",
      "Siddharth\n",
      "20\n",
      "10000000\n"
     ]
    }
   ],
   "source": [
    "myDict = {'key': 'value', 'name':'Siddharth','age': 20,'Salary':10000000,'expeitment':'bakra'}\n",
    "print(myDict)\n",
    "print(myDict['name'])\n",
    "print(myDict['age'])\n",
    "print(myDict['Salary'])"
   ]
  },
  {
   "cell_type": "code",
   "execution_count": 32,
   "metadata": {},
   "outputs": [
    {
     "name": "stdout",
     "output_type": "stream",
     "text": [
      "Siddharth\n",
      "10000000\n"
     ]
    }
   ],
   "source": [
    "print(myDict.get('name'))\n",
    "print(myDict.get('Salary'))\n"
   ]
  },
  {
   "cell_type": "code",
   "execution_count": 33,
   "metadata": {},
   "outputs": [
    {
     "name": "stdout",
     "output_type": "stream",
     "text": [
      "{'key': 'jodi', 'name': 'Siddharth', 'age': 20, 'Salary': 10000000, 'expeitment': 'bakra'}\n"
     ]
    }
   ],
   "source": [
    "myDict['key'] = 'jodi'\n",
    "print(myDict)"
   ]
  },
  {
   "cell_type": "code",
   "execution_count": 34,
   "metadata": {},
   "outputs": [
    {
     "name": "stdout",
     "output_type": "stream",
     "text": [
      "key\n",
      "name\n",
      "age\n",
      "Salary\n",
      "expeitment\n"
     ]
    }
   ],
   "source": [
    "for key in myDict:\n",
    "    print(key)"
   ]
  },
  {
   "cell_type": "code",
   "execution_count": 35,
   "metadata": {},
   "outputs": [
    {
     "name": "stdout",
     "output_type": "stream",
     "text": [
      "key jodi\n",
      "name Siddharth\n",
      "age 20\n",
      "Salary 10000000\n",
      "expeitment bakra\n"
     ]
    }
   ],
   "source": [
    "for key in myDict:\n",
    "    print(key , myDict[key])"
   ]
  },
  {
   "cell_type": "code",
   "execution_count": 36,
   "metadata": {},
   "outputs": [
    {
     "name": "stdout",
     "output_type": "stream",
     "text": [
      "key jodi\n",
      "name Siddharth\n",
      "age 20\n",
      "Salary 10000000\n",
      "expeitment bakra\n"
     ]
    }
   ],
   "source": [
    "for key,value in myDict.items():\n",
    "    print(key,value)"
   ]
  },
  {
   "cell_type": "code",
   "execution_count": 37,
   "metadata": {},
   "outputs": [
    {
     "name": "stdout",
     "output_type": "stream",
     "text": [
      "Yes\n"
     ]
    }
   ],
   "source": [
    "if 'name' in myDict:\n",
    "    print('Yes')"
   ]
  },
  {
   "cell_type": "code",
   "execution_count": 38,
   "metadata": {},
   "outputs": [
    {
     "name": "stdout",
     "output_type": "stream",
     "text": [
      "5\n"
     ]
    }
   ],
   "source": [
    "print(len(myDict))"
   ]
  },
  {
   "cell_type": "code",
   "execution_count": 39,
   "metadata": {},
   "outputs": [
    {
     "name": "stdout",
     "output_type": "stream",
     "text": [
      "jodi\n"
     ]
    }
   ],
   "source": [
    "print(myDict.pop('key'))"
   ]
  },
  {
   "cell_type": "code",
   "execution_count": 40,
   "metadata": {},
   "outputs": [
    {
     "name": "stdout",
     "output_type": "stream",
     "text": [
      "('expeitment', 'bakra')\n"
     ]
    }
   ],
   "source": [
    "print(myDict.popitem())"
   ]
  },
  {
   "cell_type": "code",
   "execution_count": 41,
   "metadata": {},
   "outputs": [
    {
     "name": "stdout",
     "output_type": "stream",
     "text": [
      "{'name': 'Siddharth', 'Salary': 10000000}\n"
     ]
    }
   ],
   "source": [
    "del myDict['age']\n",
    "print(myDict)"
   ]
  },
  {
   "cell_type": "code",
   "execution_count": null,
   "metadata": {},
   "outputs": [],
   "source": [
    "myDict_copy = myDict.copy()  # create another copy in the memory rather than referencing the same location\n"
   ]
  },
  {
   "cell_type": "code",
   "execution_count": 49,
   "metadata": {},
   "outputs": [
    {
     "name": "stdout",
     "output_type": "stream",
     "text": [
      "{'wild': {'cats': 'Lion', 'dogs': 'hayenas', 'boxer': 'kangroo'}, 'pet': {'cats': 'pet cat', 'dogs': 'stray Dogs', 'boxer': 'Donkey'}}\n",
      "{'cats': 'pet cat', 'dogs': 'stray Dogs', 'boxer': 'Donkey'}\n",
      "pet cat\n",
      "e\n",
      "pet\n",
      "ptct\n"
     ]
    }
   ],
   "source": [
    "animal = {\n",
    "    'wild' : {'cats':'Lion','dogs':'hayenas','boxer':'kangroo'},\n",
    "    'pet' : {'cats':'pet cat','dogs':'stray Dogs','boxer':'Donkey'}\n",
    "}\n",
    "\n",
    "print(animal)\n",
    "print(animal['pet'])\n",
    "print(animal['pet']['cats'])\n",
    "print(animal['pet']['cats'][1])\n",
    "print(animal['pet']['cats'][0:3])\n",
    "print(animal['pet']['cats'][0::2])"
   ]
  },
  {
   "cell_type": "code",
   "execution_count": 55,
   "metadata": {},
   "outputs": [
    {
     "name": "stdout",
     "output_type": "stream",
     "text": [
      "{0: 0, 1: 1, 2: 4, 3: 9, 4: 16, 5: 25, 6: 36, 7: 49, 8: 64, 9: 81, 10: 100}\n"
     ]
    }
   ],
   "source": [
    "squareNum = {x:x**2 for x in range(11)}\n",
    "print(squareNum)"
   ]
  },
  {
   "cell_type": "code",
   "execution_count": 56,
   "metadata": {},
   "outputs": [
    {
     "name": "stdout",
     "output_type": "stream",
     "text": [
      "None\n"
     ]
    }
   ],
   "source": [
    "print(squareNum.clear())"
   ]
  },
  {
   "cell_type": "code",
   "execution_count": 59,
   "metadata": {},
   "outputs": [
    {
     "name": "stdout",
     "output_type": "stream",
     "text": [
      "{'name': 'Default', 'age': 'Default', 'hieght': 'Default'}\n",
      "{'name': ['name', 'age', 'hieght'], 'age': ['name', 'age', 'hieght'], 'hieght': ['name', 'age', 'hieght']}\n"
     ]
    }
   ],
   "source": [
    "keys = ['name','age','hieght']\n",
    "values = 'Default'\n",
    "\n",
    "newDict = dict.fromkeys(keys,values)\n",
    "print(newDict)\n",
    "\n",
    "newDict2 = dict.fromkeys(keys,keys)\n",
    "print(newDict2)"
   ]
  },
  {
   "cell_type": "code",
   "execution_count": 1,
   "metadata": {},
   "outputs": [
    {
     "name": "stdout",
     "output_type": "stream",
     "text": [
      "{'mango': 'green', 'watermelon': 'red', 'litchi': 'white', 'banana': 'yellow'} 4 <class 'dict'> 1939819129536\n",
      "dict_keys(['mango', 'watermelon', 'litchi', 'banana'])\n",
      "dict_values(['green', 'red', 'white', 'yellow'])\n",
      "dict_items([('mango', 'green'), ('watermelon', 'red'), ('litchi', 'white'), ('banana', 'yellow')])\n"
     ]
    }
   ],
   "source": [
    "dict1 = {'mango':'green','watermelon':'red','litchi':'white','banana':'yellow'}\n",
    "print(dict1,len(dict1),type(dict1),id(dict1))\n",
    "print(dict1.keys())\n",
    "print(dict1.values())\n",
    "print(dict1.items())  #outcome is in the list of tuples"
   ]
  },
  {
   "cell_type": "code",
   "execution_count": 2,
   "metadata": {},
   "outputs": [
    {
     "name": "stdout",
     "output_type": "stream",
     "text": [
      "{'mango': 'green', 'watermelon': 'red', 'litchi': 'white', 'banana': 'yellow'} 4 <class 'dict'> 1939819297728\n",
      "green\n",
      "white\n",
      "Not found\n"
     ]
    }
   ],
   "source": [
    "#accessing value against the key\n",
    "dict1 = {'mango':'green','watermelon':'red','litchi':'white','banana':'yellow'}\n",
    "print(dict1,len(dict1),type(dict1),id(dict1))\n",
    "print(dict1.get('mango'))\n",
    "print(dict1.get('litchi'))\n",
    "print(dict1.get('coconut','Not found'))"
   ]
  },
  {
   "cell_type": "code",
   "execution_count": 3,
   "metadata": {},
   "outputs": [
    {
     "name": "stdout",
     "output_type": "stream",
     "text": [
      "{'mango': 'green', 'watermelon': 'red', 'litchi': 'white', 'banana': 'yellow'} 4 <class 'dict'> 1939819329088\n",
      "green\n"
     ]
    }
   ],
   "source": [
    "dict1 = {'mango':'green','watermelon':'red','litchi':'white','banana':'yellow'}\n",
    "print(dict1,len(dict1),type(dict1),id(dict1))\n",
    "print(dict1['mango'])\n",
    "# print(dict1['coconut']) # will generate error"
   ]
  },
  {
   "cell_type": "code",
   "execution_count": 4,
   "metadata": {},
   "outputs": [
    {
     "name": "stdout",
     "output_type": "stream",
     "text": [
      "{'mango': 'green', 'watermelon': 'red', 'litchi': 'white', 'banana': 'yellow'} 4 <class 'dict'> 1939819337088\n",
      "{'mango': '60', 'watermelon': 'red', 'litchi': 'white', 'banana': 'yellow'} 4 <class 'dict'> 1939819337088\n",
      "{'mango': '60', 'watermelon': 'red', 'litchi': 'white', 'banana': 'yellow', 'apple': '60'} 5 <class 'dict'> 1939819337088\n",
      "{'mango': '120', 'watermelon': 'red', 'litchi': 'white', 'banana': 'yellow', 'apple': '60'} 5 <class 'dict'> 1939819337088\n"
     ]
    }
   ],
   "source": [
    "dict1 = {'mango':'green','watermelon':'red','litchi':'white','banana':'yellow'}\n",
    "print(dict1,len(dict1),type(dict1),id(dict1))\n",
    "dict1['mango'] ='60'\n",
    "print(dict1,len(dict1),type(dict1),id(dict1))\n",
    "\n",
    "dict1['apple'] ='60'  #insert\n",
    "print(dict1,len(dict1),type(dict1),id(dict1))\n",
    "\n",
    "dict1['mango'] ='120'   #update\n",
    "print(dict1,len(dict1),type(dict1),id(dict1))"
   ]
  },
  {
   "cell_type": "code",
   "execution_count": 5,
   "metadata": {},
   "outputs": [
    {
     "name": "stdout",
     "output_type": "stream",
     "text": [
      "{'mango': 'green', 'watermelon': 'red', 'litchi': 'white', 'banana': 'yellow'} 4 <class 'dict'> 1939819342272\n",
      "{} 0 <class 'dict'> 1939819342272\n"
     ]
    }
   ],
   "source": [
    "dict1 = {'mango':'green','watermelon':'red','litchi':'white','banana':'yellow'}\n",
    "print(dict1,len(dict1),type(dict1),id(dict1))\n",
    "dict1.clear()\n",
    "print(dict1,len(dict1),type(dict1),id(dict1))"
   ]
  },
  {
   "cell_type": "code",
   "execution_count": 6,
   "metadata": {},
   "outputs": [
    {
     "name": "stdout",
     "output_type": "stream",
     "text": [
      "{'mango': 'green', 'watermelon': 'red', 'litchi': 'white', 'banana': 'yellow'} 4 <class 'dict'> 1939819129536\n"
     ]
    }
   ],
   "source": [
    "dict1 = {'mango':'green','watermelon':'red','litchi':'white','banana':'yellow'}\n",
    "print(dict1,len(dict1),type(dict1),id(dict1))\n",
    "del dict1\n",
    "# print(dict1,len(dict1),type(dict1),id(dict1))"
   ]
  },
  {
   "cell_type": "code",
   "execution_count": 7,
   "metadata": {},
   "outputs": [
    {
     "name": "stdout",
     "output_type": "stream",
     "text": [
      "{'mango': 'green', 'watermelon': 'red', 'litchi': 'white', 'banana': 'yellow'} 4 <class 'dict'> 1939819360832\n",
      "green\n",
      "{'watermelon': 'red', 'litchi': 'white', 'banana': 'yellow'} 3 <class 'dict'> 1939819360832\n"
     ]
    }
   ],
   "source": [
    "dict1 = {'mango':'green','watermelon':'red','litchi':'white','banana':'yellow'}\n",
    "print(dict1,len(dict1),type(dict1),id(dict1))\n",
    "print(dict1.pop('mango'))\n",
    "print(dict1,len(dict1),type(dict1),id(dict1))"
   ]
  },
  {
   "cell_type": "code",
   "execution_count": 8,
   "metadata": {},
   "outputs": [
    {
     "name": "stdout",
     "output_type": "stream",
     "text": [
      "{'mango': 'green', 'watermelon': 'red', 'litchi': 'white', 'banana': 'yellow'} 4 <class 'dict'> 1939819334336\n",
      "{'mango': 'red', 'watermelon': 'red', 'litchi': 'white', 'banana': 'yellow'} 4 <class 'dict'> 1939819131136\n"
     ]
    }
   ],
   "source": [
    "dict1 = {'mango':'green','watermelon':'red','litchi':'white','banana':'yellow'}\n",
    "print(dict1,len(dict1),type(dict1),id(dict1))\n",
    "dict2 = {'mango':'red','watermelon':'red','litchi':'white','banana':'yellow'}\n",
    "print(dict2,len(dict2),type(dict2),id(dict2))\n",
    "dict1.update(dict2)\n",
    "\n"
   ]
  },
  {
   "cell_type": "code",
   "execution_count": 9,
   "metadata": {},
   "outputs": [
    {
     "name": "stdout",
     "output_type": "stream",
     "text": [
      "{'mango': 'green', 'watermelon': 'red', 'litchi': 'white', 'banana': 'yellow'} 4 <class 'dict'> 1939819340800\n",
      "('banana', 'yellow')\n",
      "{'mango': 'green', 'watermelon': 'red', 'litchi': 'white'} 3 <class 'dict'> 1939819340800\n"
     ]
    }
   ],
   "source": [
    "dict1 = {'mango':'green','watermelon':'red','litchi':'white','banana':'yellow'}\n",
    "print(dict1,len(dict1),type(dict1),id(dict1))\n",
    "print(dict1.popitem())\n",
    "print(dict1,len(dict1),type(dict1),id(dict1))"
   ]
  },
  {
   "cell_type": "code",
   "execution_count": 11,
   "metadata": {},
   "outputs": [
    {
     "name": "stdout",
     "output_type": "stream",
     "text": [
      "['mango', 'watermelon', 'litchi', 'banana'] 4\n",
      "['green', 'red', 'white', 'yellow'] 4\n",
      "<zip object at 0x000001C3A63A01C0> <class 'zip'>\n",
      "{'mango': 'green', 'watermelon': 'red', 'litchi': 'white', 'banana': 'yellow'} <class 'dict'>\n",
      "(('mango', 'green'), ('watermelon', 'red'), ('litchi', 'white'), ('banana', 'yellow')) <class 'tuple'>\n",
      "[('mango', 'green'), ('watermelon', 'red'), ('litchi', 'white'), ('banana', 'yellow')] <class 'list'>\n"
     ]
    }
   ],
   "source": [
    "fruits =['mango','watermelon','litchi','banana']\n",
    "colors =['green','red','white','yellow']\n",
    "print(fruits,len(fruits))\n",
    "print(colors,len(colors))\n",
    "\n",
    "result = zip(fruits, colors)\n",
    "print(result,type(result))\n",
    "\n",
    "result = dict(zip(fruits, colors))\n",
    "print(result,type(result))\n",
    "\n",
    "result = tuple(zip(fruits, colors))\n",
    "print(result,type(result))\n",
    "\n",
    "result = list(zip(fruits, colors))\n",
    "print(result,type(result))\n"
   ]
  },
  {
   "cell_type": "code",
   "execution_count": 12,
   "metadata": {},
   "outputs": [
    {
     "name": "stdout",
     "output_type": "stream",
     "text": [
      "{'helo': 'Indigo', 'bolo': 'Indigo', 'chalo': 'Indigo'}\n"
     ]
    }
   ],
   "source": [
    "lst = ['helo','bolo','chalo']\n",
    "stt = 'Indigo'\n",
    "\n",
    "dict1 = dict.fromkeys(lst,stt)\n",
    "print(dict1)"
   ]
  },
  {
   "cell_type": "code",
   "execution_count": null,
   "metadata": {},
   "outputs": [
    {
     "name": "stdout",
     "output_type": "stream",
     "text": [
      "ROll No\n"
     ]
    }
   ],
   "source": [
    "myDict = {'key': 'value', 'name':'Siddharth','age': 20,'Salary':10000000,'expeitment':'bakra',1:\"ROll No\"}\n",
    "print(myDict[1])"
   ]
  },
  {
   "cell_type": "code",
   "execution_count": null,
   "metadata": {},
   "outputs": [],
   "source": []
  }
 ],
 "metadata": {
  "kernelspec": {
   "display_name": "Python 3",
   "language": "python",
   "name": "python3"
  },
  "language_info": {
   "codemirror_mode": {
    "name": "ipython",
    "version": 3
   },
   "file_extension": ".py",
   "mimetype": "text/x-python",
   "name": "python",
   "nbconvert_exporter": "python",
   "pygments_lexer": "ipython3",
   "version": "3.10.8"
  }
 },
 "nbformat": 4,
 "nbformat_minor": 2
}

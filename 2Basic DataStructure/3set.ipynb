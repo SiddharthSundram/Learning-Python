{
 "cells": [
  {
   "cell_type": "code",
   "execution_count": 1,
   "metadata": {},
   "outputs": [
    {
     "name": "stdout",
     "output_type": "stream",
     "text": [
      "{'js', 'c', 'c++', 'python', 'java'} <class 'set'> 5 2497696948384\n",
      "\n",
      "{'js', 'python', 'c', 'c++', 'java'} <class 'set'> 5 2497696949728\n",
      "\n",
      "{'js', 'c', 'c++', 'python', 'java'} <class 'set'> 5 2497696948832\n",
      "\n"
     ]
    }
   ],
   "source": [
    "lang = {'c','c++','python','java','js','c++'}\n",
    "print(lang,type(lang),len(lang),id(lang))\n",
    "print()\n",
    "\n",
    "\n",
    "#forming a set form tuple\n",
    "lang = set(('c','c++','python','java','js','c++'))\n",
    "print(lang,type(lang),len(lang),id(lang))\n",
    "print()\n",
    "\n",
    "#formin a set\n",
    "lang = {'c','c++','python','java','js','c++'}\n",
    "print(lang,type(lang),len(lang),id(lang))\n",
    "print()"
   ]
  },
  {
   "cell_type": "code",
   "execution_count": 2,
   "metadata": {},
   "outputs": [
    {
     "name": "stdout",
     "output_type": "stream",
     "text": [
      "{'c++', 'python', 'c'} <class 'set'> 3 2497696949056\n",
      "{'python', 'cobra', 'wiper'} <class 'set'> 3 2497696949728\n",
      "{'cobra', 'c', 'c++', 'python', 'wiper'} <class 'set'> 5 2497696948832\n",
      "{'cobra', 'c', 'c++', 'python', 'wiper'} <class 'set'> 5 2497698222752\n"
     ]
    }
   ],
   "source": [
    "lang = {'c','c++','python'}\n",
    "print(lang,type(lang),len(lang),id(lang))\n",
    "\n",
    "snack = {'wiper','python','cobra'}\n",
    "print(snack,type(snack),len(snack),id(snack))\n",
    "\n",
    "result = lang.union(snack)\n",
    "print(result,type(result),len(result),id(result))\n",
    "\n",
    "\n",
    "result = lang |snack  # | sumbol of union\n",
    "print(result,type(result),len(result),id(result))\n"
   ]
  },
  {
   "cell_type": "code",
   "execution_count": 3,
   "metadata": {},
   "outputs": [
    {
     "name": "stdout",
     "output_type": "stream",
     "text": [
      "{'c++', 'python', 'c'} <class 'set'> 3 2497696948832\n",
      "{'python', 'cobra', 'wiper'} <class 'set'> 3 2497696949056\n",
      "{'python'} <class 'set'> 1 2497696949728\n",
      "{'python'} <class 'set'> 1 2497698222752\n",
      "{'python'} <class 'set'> 1 2497696948832\n"
     ]
    }
   ],
   "source": [
    "# intersection update\n",
    "lang = {'c','c++','python'}\n",
    "print(lang,type(lang),len(lang),id(lang))\n",
    "\n",
    "snack = {'wiper','python','cobra'}\n",
    "print(snack,type(snack),len(snack),id(snack))\n",
    "\n",
    "result = lang.intersection(snack)\n",
    "print(result,type(result),len(result),id(result))\n",
    "\n",
    "\n",
    "result = lang & snack  # & sumbol of inteersction\n",
    "print(result,type(result),len(result),id(result))\n",
    "\n",
    "lang.intersection_update(snack)\n",
    "print(lang,type(lang),len(lang),id(lang))"
   ]
  },
  {
   "cell_type": "code",
   "execution_count": 4,
   "metadata": {},
   "outputs": [
    {
     "name": "stdout",
     "output_type": "stream",
     "text": [
      "{'c++', 'python', 'c'} <class 'set'> 3 2497696949728\n",
      "{'python', 'cobra', 'wiper'} <class 'set'> 3 2497696948832\n",
      "{'cobra', 'wiper', 'c', 'c++'} <class 'set'> 4 2497696949056\n",
      "{'cobra', 'wiper', 'c', 'c++'} <class 'set'> 4 2497698222752\n"
     ]
    }
   ],
   "source": [
    "# symetric diff\n",
    "lang = {'c','c++','python'}\n",
    "print(lang,type(lang),len(lang),id(lang))\n",
    "\n",
    "snack = {'wiper','python','cobra'}\n",
    "print(snack,type(snack),len(snack),id(snack))\n",
    "\n",
    "result = lang.symmetric_difference(snack)\n",
    "print(result,type(result),len(result),id(result))\n",
    "\n",
    "\n",
    "result = lang ^ snack\n",
    "print(result,type(result),len(result),id(result))"
   ]
  },
  {
   "cell_type": "code",
   "execution_count": 5,
   "metadata": {},
   "outputs": [
    {
     "name": "stdout",
     "output_type": "stream",
     "text": [
      "{'c++', 'python', 'c'} <class 'set'> 3 2497696948384\n",
      "{'python', 'cobra', 'wiper'} <class 'set'> 3 2497696949728\n",
      "{'c++', 'c'} <class 'set'> 2 2497696948832\n",
      "{'c++', 'c'} <class 'set'> 2 2497698222752\n",
      "{'c++', 'c'} <class 'set'> 2 2497696948384\n",
      "{'python', 'cobra', 'wiper'} <class 'set'> 3 2497696949728\n"
     ]
    }
   ],
   "source": [
    "# substraction \n",
    "lang = {'c','c++','python'}\n",
    "print(lang,type(lang),len(lang),id(lang))\n",
    "\n",
    "snack = {'wiper','python','cobra'}\n",
    "print(snack,type(snack),len(snack),id(snack))\n",
    "\n",
    "result = lang.difference(snack)\n",
    "print(result,type(result),len(result),id(result))\n",
    "\n",
    "result = lang - snack\n",
    "print(result,type(result),len(result),id(result))\n",
    "\n",
    "\n",
    "\n",
    "lang.difference_update(snack)\n",
    "print(lang,type(lang),len(lang),id(lang))\n",
    "print(snack,type(snack),len(snack),id(snack))"
   ]
  },
  {
   "cell_type": "code",
   "execution_count": 6,
   "metadata": {},
   "outputs": [
    {
     "name": "stdout",
     "output_type": "stream",
     "text": [
      "{'c++', 'python', 'java'} <class 'set'> 3 2497696948832\n",
      "{'c++', 'python', 'kotlin', 'java'} <class 'set'> 4 2497696948832\n",
      "{'kotlin', 'python', 'perl', 'c++', 'java'} <class 'set'> 5 2497696948832\n",
      "{'kotlin', 'python', 'perl', 'c++', 'java'} <class 'set'> 5 2497696948832\n"
     ]
    }
   ],
   "source": [
    "lang = {'c++','java','python'}\n",
    "print(lang,type(lang),len(lang),id(lang))\n",
    "lang.add('kotlin')\n",
    "print(lang,type(lang),len(lang),id(lang))\n",
    "lang.add('perl')\n",
    "print(lang,type(lang),len(lang),id(lang))\n",
    "lang.add('python')\n",
    "print(lang,type(lang),len(lang),id(lang))"
   ]
  },
  {
   "cell_type": "code",
   "execution_count": 7,
   "metadata": {},
   "outputs": [
    {
     "name": "stdout",
     "output_type": "stream",
     "text": [
      "{'c++', 'python', 'java'} <class 'set'> 3 2497696949056\n",
      "{'python', 'java'} <class 'set'> 2 2497696949056\n",
      "{'java'} <class 'set'> 1 2497696949056\n"
     ]
    }
   ],
   "source": [
    "lang = {'c++','java','python'}\n",
    "print(lang,type(lang),len(lang),id(lang))\n",
    "lang.pop()\n",
    "print(lang,type(lang),len(lang),id(lang))\n",
    "\n",
    "lang.pop()\n",
    "print(lang,type(lang),len(lang),id(lang))\n"
   ]
  },
  {
   "cell_type": "code",
   "execution_count": 8,
   "metadata": {},
   "outputs": [
    {
     "name": "stdout",
     "output_type": "stream",
     "text": [
      "{'c++', 'python', 'java'} <class 'set'> 3 2497696948832\n",
      "{'c++', 'python'} <class 'set'> 2 2497696948832\n"
     ]
    }
   ],
   "source": [
    "lang = {'c++','java','python'}\n",
    "print(lang,type(lang),len(lang),id(lang))\n",
    "\n",
    "lang.remove('java')\n",
    "print(lang,type(lang),len(lang),id(lang))\n",
    "\n",
    "\n",
    "# lang.remove('java')\n",
    "# print(lang,type(lang),len(lang),id(lang))  # will generate error\n"
   ]
  },
  {
   "cell_type": "code",
   "execution_count": 9,
   "metadata": {},
   "outputs": [
    {
     "name": "stdout",
     "output_type": "stream",
     "text": [
      "{'c++', 'python', 'java', 'perl'} <class 'set'> 4 2497696948384\n",
      "{'python', 'java', 'perl'} <class 'set'> 3 2497696948384\n",
      "{'python', 'java', 'perl'} <class 'set'> 3 2497696948384\n",
      "{'python', 'java'} <class 'set'> 2 2497696948384\n"
     ]
    }
   ],
   "source": [
    "lang = {'c++','java','perl','python'}\n",
    "print(lang,type(lang),len(lang),id(lang))\n",
    "\n",
    "\n",
    "lang.discard('c++')\n",
    "print(lang,type(lang),len(lang),id(lang))\n",
    "\n",
    "lang.discard('c++')\n",
    "print(lang,type(lang),len(lang),id(lang))\n",
    "\n",
    "lang.discard('perl')\n",
    "print(lang,type(lang),len(lang),id(lang))"
   ]
  },
  {
   "cell_type": "code",
   "execution_count": 10,
   "metadata": {},
   "outputs": [
    {
     "name": "stdout",
     "output_type": "stream",
     "text": [
      "{'c++', 'python', 'java', 'perl'} <class 'set'> 4 2497696949056\n",
      "set() <class 'set'> 0 2497696949056\n"
     ]
    }
   ],
   "source": [
    "lang = {'c++','java','perl','python'}\n",
    "print(lang,type(lang),len(lang),id(lang))\n",
    "\n",
    "\n",
    "lang.clear()\n",
    "print(lang,type(lang),len(lang),id(lang))"
   ]
  },
  {
   "cell_type": "code",
   "execution_count": 11,
   "metadata": {},
   "outputs": [
    {
     "name": "stdout",
     "output_type": "stream",
     "text": [
      "{'c++', 'python', 'java', 'perl'} <class 'set'> 4 2497696948832\n"
     ]
    },
    {
     "ename": "NameError",
     "evalue": "name 'lang' is not defined",
     "output_type": "error",
     "traceback": [
      "\u001b[1;31m---------------------------------------------------------------------------\u001b[0m",
      "\u001b[1;31mNameError\u001b[0m                                 Traceback (most recent call last)",
      "Cell \u001b[1;32mIn[11], line 6\u001b[0m\n\u001b[0;32m      2\u001b[0m \u001b[38;5;28mprint\u001b[39m(lang,\u001b[38;5;28mtype\u001b[39m(lang),\u001b[38;5;28mlen\u001b[39m(lang),\u001b[38;5;28mid\u001b[39m(lang))\n\u001b[0;32m      5\u001b[0m \u001b[38;5;28;01mdel\u001b[39;00m lang\n\u001b[1;32m----> 6\u001b[0m \u001b[38;5;28mprint\u001b[39m(\u001b[43mlang\u001b[49m,\u001b[38;5;28mtype\u001b[39m(lang),\u001b[38;5;28mlen\u001b[39m(lang),\u001b[38;5;28mid\u001b[39m(lang))\n",
      "\u001b[1;31mNameError\u001b[0m: name 'lang' is not defined"
     ]
    }
   ],
   "source": [
    "lang = {'c++','java','perl','python'}\n",
    "print(lang,type(lang),len(lang),id(lang))\n",
    "\n",
    "\n",
    "del lang\n",
    "print(lang,type(lang),len(lang),id(lang))"
   ]
  },
  {
   "cell_type": "code",
   "execution_count": null,
   "metadata": {},
   "outputs": [],
   "source": []
  }
 ],
 "metadata": {
  "kernelspec": {
   "display_name": "Python 3",
   "language": "python",
   "name": "python3"
  },
  "language_info": {
   "codemirror_mode": {
    "name": "ipython",
    "version": 3
   },
   "file_extension": ".py",
   "mimetype": "text/x-python",
   "name": "python",
   "nbconvert_exporter": "python",
   "pygments_lexer": "ipython3",
   "version": "3.10.8"
  }
 },
 "nbformat": 4,
 "nbformat_minor": 2
}

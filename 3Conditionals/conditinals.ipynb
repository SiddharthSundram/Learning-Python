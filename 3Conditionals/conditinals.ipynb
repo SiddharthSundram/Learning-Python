{
 "cells": [
  {
   "cell_type": "markdown",
   "metadata": {},
   "source": [
    "Syntax:\n",
    "\n",
    "if(condition):\n",
    "    statement"
   ]
  },
  {
   "cell_type": "code",
   "execution_count": 1,
   "metadata": {},
   "outputs": [
    {
     "name": "stdout",
     "output_type": "stream",
     "text": [
      "Number is greater than 5.\n"
     ]
    }
   ],
   "source": [
    "x = 10\n",
    "if x >5:\n",
    "    print(\"Number is greater than 5.\")"
   ]
  },
  {
   "cell_type": "markdown",
   "metadata": {},
   "source": [
    "Age group categorisation"
   ]
  },
  {
   "cell_type": "code",
   "execution_count": 10,
   "metadata": {},
   "outputs": [
    {
     "name": "stdout",
     "output_type": "stream",
     "text": [
      "Senior\n"
     ]
    }
   ],
   "source": [
    "age = int(input(\"Enter your age: \"))\n",
    "\n",
    "if age < 13:\n",
    "    print(\"Child.\")\n",
    "elif age < 20:\n",
    "    print(\"Teen\")\n",
    "elif age < 59:\n",
    "    print(\"Adult\")\n",
    "else:\n",
    "    print(\"Senior\")\n",
    "    "
   ]
  },
  {
   "cell_type": "markdown",
   "metadata": {},
   "source": [
    "Movie ticket "
   ]
  },
  {
   "cell_type": "code",
   "execution_count": 15,
   "metadata": {},
   "outputs": [
    {
     "name": "stdout",
     "output_type": "stream",
     "text": [
      "Movie ticket price is $6 \n"
     ]
    }
   ],
   "source": [
    "age = int(input(\"Enter your age: \"))\n",
    "day = input(\"Enter day: \")\n",
    "\n",
    "price = 12 if age >= 18 else 8\n",
    "\n",
    "if day == 'Wednesday' or day == 'wednesday':\n",
    "    print(f'Movie ticket price is ${price -2} ')\n",
    "else:\n",
    "    print(f'Movie ticket price is ${price}')"
   ]
  },
  {
   "cell_type": "markdown",
   "metadata": {},
   "source": [
    "Grade Calculator"
   ]
  },
  {
   "cell_type": "code",
   "execution_count": 3,
   "metadata": {},
   "outputs": [
    {
     "name": "stdout",
     "output_type": "stream",
     "text": [
      "Your Grade is F.\n"
     ]
    }
   ],
   "source": [
    "marks = int(input(\"Enter your marks: \"))\n",
    "\n",
    "if marks > 100:\n",
    "    print(\"Please enter valid marks.\")\n",
    "    exit()\n",
    "elif 90 <= marks:\n",
    "    print('Your Grade is A.')\n",
    "elif 80 <= marks < 90:\n",
    "    print('Your Grade is B.')\n",
    "elif 70 <= marks < 80:\n",
    "    print('Your Grade is C.')\n",
    "elif 60 <= marks < 70:\n",
    "    print('Your Grade is D.')\n",
    "elif marks < 60:\n",
    "    print('Your Grade is F.')\n",
    "    "
   ]
  },
  {
   "cell_type": "markdown",
   "metadata": {},
   "source": [
    "Fruits Ripness check"
   ]
  },
  {
   "cell_type": "code",
   "execution_count": null,
   "metadata": {},
   "outputs": [
    {
     "name": "stdout",
     "output_type": "stream",
     "text": [
      "Please choose green , yellow  or brown colors only.\n",
      "Unripe\n"
     ]
    }
   ],
   "source": [
    "print(\"Please choose green , yellow  or brown colors only for banana.\")\n",
    "color = input(\"Enter colour name: \")\n",
    "\n",
    "if color in 'green':\n",
    "    print(\"Unripe\")\n",
    "elif color in 'yellow':\n",
    "    print(\"ripe\")\n",
    "elif color in 'brown':\n",
    "    print(\"Overripe\")\n",
    "else:\n",
    "    print(\"Enter right color name.\")"
   ]
  },
  {
   "cell_type": "markdown",
   "metadata": {},
   "source": [
    "Leap year check\n"
   ]
  },
  {
   "cell_type": "code",
   "execution_count": 7,
   "metadata": {},
   "outputs": [
    {
     "name": "stdout",
     "output_type": "stream",
     "text": [
      "2023 is NOT aleap year.\n"
     ]
    }
   ],
   "source": [
    "year =  int(input(\"Enter a year: \"))\n",
    "\n",
    "if (year % 400 == 0) or (year % 4 == 0 and year % 100 != 0):\n",
    "    print(f\"{year} is a leap year.\")\n",
    "else:\n",
    "    print(f\"{year} is NOT aleap year.\")\n",
    "    "
   ]
  },
  {
   "cell_type": "code",
   "execution_count": null,
   "metadata": {},
   "outputs": [],
   "source": []
  }
 ],
 "metadata": {
  "kernelspec": {
   "display_name": "Python 3",
   "language": "python",
   "name": "python3"
  },
  "language_info": {
   "codemirror_mode": {
    "name": "ipython",
    "version": 3
   },
   "file_extension": ".py",
   "mimetype": "text/x-python",
   "name": "python",
   "nbconvert_exporter": "python",
   "pygments_lexer": "ipython3",
   "version": "3.10.8"
  }
 },
 "nbformat": 4,
 "nbformat_minor": 2
}

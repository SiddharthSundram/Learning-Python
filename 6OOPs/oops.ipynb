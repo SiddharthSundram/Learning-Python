{
 "cells": [
  {
   "cell_type": "markdown",
   "metadata": {},
   "source": [
    "# OOPs"
   ]
  },
  {
   "cell_type": "code",
   "execution_count": 3,
   "metadata": {},
   "outputs": [
    {
     "name": "stdout",
     "output_type": "stream",
     "text": [
      "Tata\n",
      "Safari\n",
      "BMW\n",
      "M5\n",
      "Audi\n",
      "Q4\n",
      "Hundai\n",
      "Verna\n"
     ]
    }
   ],
   "source": [
    "class Car:\n",
    "    def __init__(self,brand,model):\n",
    "        self.brand = brand\n",
    "        self.model = model\n",
    "\n",
    "myCar1 = Car('Tata','Safari')\n",
    "print(myCar1.brand)\n",
    "print(myCar1.model)\n",
    "\n",
    "\n",
    "myCar2 = Car('BMW','M5')\n",
    "print(myCar2.brand)\n",
    "print(myCar2.model)\n",
    "\n",
    "\n",
    "myCar3 = Car('Audi','Q4')\n",
    "print(myCar3.brand)\n",
    "print(myCar3.model)\n",
    "\n",
    "\n",
    "myCar4 = Car('Hundai','Verna')\n",
    "print(myCar4.brand)\n",
    "print(myCar4.model)"
   ]
  },
  {
   "cell_type": "code",
   "execution_count": null,
   "metadata": {},
   "outputs": [
    {
     "name": "stdout",
     "output_type": "stream",
     "text": [
      "Tata\n",
      "Safari\n",
      "Tata Safari\n",
      "BMW\n",
      "M5\n",
      "BMW M5\n"
     ]
    }
   ],
   "source": [
    "class Car:\n",
    "    def __init__(self,brand,model):\n",
    "        self.brand = brand\n",
    "        self.model = model\n",
    "\n",
    "    def fullName(self):\n",
    "        return f\"{self.brand} {self.model}\"\n",
    "\n",
    "myCar1 = Car('Tata','Safari')\n",
    "print(myCar1.brand)\n",
    "print(myCar1.model)\n",
    "print(myCar1.fullName())\n",
    "\n",
    "\n",
    "myCar2 = Car('BMW','M5')\n",
    "print(myCar2.brand)\n",
    "print(myCar2.model)\n",
    "print(myCar2.fullName())"
   ]
  },
  {
   "cell_type": "markdown",
   "metadata": {},
   "source": [
    "Inheritance"
   ]
  },
  {
   "cell_type": "code",
   "execution_count": 8,
   "metadata": {},
   "outputs": [
    {
     "name": "stdout",
     "output_type": "stream",
     "text": [
      "Tata\n",
      "Curve\n",
      "Tata Curve\n",
      "6\n",
      "BMW\n",
      "M5\n",
      "BMW M5\n"
     ]
    }
   ],
   "source": [
    "class Car:\n",
    "    def __init__(self,brand,model):\n",
    "        self.brand = brand\n",
    "        self.model = model\n",
    "\n",
    "    def fullName(self):\n",
    "        return f\"{self.brand} {self.model}\"\n",
    "    \n",
    "class ElectricCar(Car):\n",
    "    def __init__(self, brand, model,batterySize):\n",
    "        super().__init__(brand, model)\n",
    "        self.batterySize = batterySize\n",
    "        \n",
    "\n",
    "\n",
    "myCar1 = ElectricCar('Tata','Curve',6)\n",
    "print(myCar1.brand)\n",
    "print(myCar1.model)\n",
    "print(myCar1.fullName())\n",
    "print(myCar1.batterySize)\n",
    "\n",
    "\n",
    "myCar2 = Car('BMW','M5',)\n",
    "print(myCar2.brand)\n",
    "print(myCar2.model)\n",
    "print(myCar2.fullName())"
   ]
  },
  {
   "cell_type": "markdown",
   "metadata": {},
   "source": [
    "Encapsulation   (to make a attribue private use double underscore '__' )"
   ]
  },
  {
   "cell_type": "code",
   "execution_count": null,
   "metadata": {},
   "outputs": [
    {
     "ename": "AttributeError",
     "evalue": "'ElectricCar' object has no attribute '__brand'",
     "output_type": "error",
     "traceback": [
      "\u001b[1;31m---------------------------------------------------------------------------\u001b[0m",
      "\u001b[1;31mAttributeError\u001b[0m                            Traceback (most recent call last)",
      "Cell \u001b[1;32mIn[15], line 20\u001b[0m\n\u001b[0;32m     15\u001b[0m         \u001b[38;5;28mself\u001b[39m\u001b[38;5;241m.\u001b[39mbatterySize \u001b[38;5;241m=\u001b[39m batterySize\n\u001b[0;32m     19\u001b[0m myCar1 \u001b[38;5;241m=\u001b[39m ElectricCar(\u001b[38;5;124m'\u001b[39m\u001b[38;5;124mTata\u001b[39m\u001b[38;5;124m'\u001b[39m,\u001b[38;5;124m'\u001b[39m\u001b[38;5;124mCurve\u001b[39m\u001b[38;5;124m'\u001b[39m,\u001b[38;5;241m6\u001b[39m)\n\u001b[1;32m---> 20\u001b[0m \u001b[38;5;28mprint\u001b[39m(\u001b[43mmyCar1\u001b[49m\u001b[38;5;241;43m.\u001b[39;49m\u001b[43m__brand\u001b[49m)  \u001b[38;5;66;03m## will generate AttributeError: 'ElectricCar' object has no attribute '__brand'\u001b[39;00m\n\u001b[0;32m     21\u001b[0m \u001b[38;5;28mprint\u001b[39m(myCar1\u001b[38;5;241m.\u001b[39mmodel)\n\u001b[0;32m     22\u001b[0m \u001b[38;5;28mprint\u001b[39m(myCar1\u001b[38;5;241m.\u001b[39mfullName())\n",
      "\u001b[1;31mAttributeError\u001b[0m: 'ElectricCar' object has no attribute '__brand'"
     ]
    }
   ],
   "source": [
    "class Car:\n",
    "    def __init__(self,brand,model):\n",
    "        self.__brand = brand   ##by applying __ we can make a atttribue private\n",
    "        self.model = model\n",
    "\n",
    "    def get_brand(self):\n",
    "        return self.__brand\n",
    "    \n",
    "    def fullName(self):\n",
    "        return f\"{self.__brand} {self.model}\"\n",
    "    \n",
    "class ElectricCar(Car):\n",
    "    def __init__(self, __brand, model,batterySize):\n",
    "        super().__init__(__brand, model)\n",
    "        self.batterySize = batterySize\n",
    "        \n",
    "\n",
    "\n",
    "myCar1 = ElectricCar('Tata','Curve',6)\n",
    "print(myCar1.__brand)  ## will generate AttributeError: 'ElectricCar' object has no attribute '__brand' because brand is private\n",
    "print(myCar1.model)\n",
    "print(myCar1.fullName())\n",
    "print(myCar1.batterySize)\n",
    "\n",
    "\n",
    "myCar2 = Car('BMW','M5',)\n",
    "print(myCar2.__brand)  ## will generate AttributeError: 'Car' object has no attribute '__brand' because brand is private\n",
    "print(myCar2.model)\n",
    "print(myCar2.fullName())\n"
   ]
  },
  {
   "cell_type": "code",
   "execution_count": 22,
   "metadata": {},
   "outputs": [
    {
     "name": "stdout",
     "output_type": "stream",
     "text": [
      "Audi\n"
     ]
    }
   ],
   "source": [
    "class Car:\n",
    "    def __init__(self,brand,model):\n",
    "        self.__brand = brand\n",
    "        self.model = model\n",
    "\n",
    "    def get_brand(self):\n",
    "        return self.__brand\n",
    "    \n",
    "    def fullName(self):\n",
    "        return f\"{self.__brand} {self.model}\"\n",
    "    \n",
    "class ElectricCar(Car):\n",
    "    def __init__(self, __brand, model,batterySize):\n",
    "        super().__init__(__brand, model)\n",
    "        self.batterySize = batterySize\n",
    "\n",
    "\n",
    "myCar1 = Car('Audi','Q4',)\n",
    "print(myCar1.get_brand())  "
   ]
  },
  {
   "cell_type": "code",
   "execution_count": null,
   "metadata": {},
   "outputs": [
    {
     "name": "stdout",
     "output_type": "stream",
     "text": [
      "Audi\n",
      "BMW\n",
      "BMW Q4\n"
     ]
    }
   ],
   "source": [
    "class Car:\n",
    "    def __init__(self, brand, model):\n",
    "        self.__brand = brand  ## Private attribute\n",
    "        self.model = model\n",
    "\n",
    "    def get_brand(self):\n",
    "        return self.__brand\n",
    "\n",
    "    def set_brand(self, brand):\n",
    "        if not brand:       ## Setter method with optional validation \n",
    "            raise ValueError(\"Brand name cannot be empty!\")\n",
    "        self.__brand = brand\n",
    "\n",
    "    def fullName(self):\n",
    "        return f\"{self.__brand} {self.model}\"\n",
    "\n",
    "\n",
    "class ElectricCar(Car):\n",
    "    def __init__(self, brand, model, batterySize):\n",
    "        super().__init__(brand, model)\n",
    "        self.batterySize = batterySize\n",
    "\n",
    "\n",
    "myCar1 = Car('Audi', 'Q4')\n",
    "print(myCar1.get_brand())\n",
    "\n",
    "myCar1.set_brand('BMW')  ## Using the setter method to change the brand\n",
    "print(myCar1.get_brand())\n",
    "\n",
    "print(myCar1.fullName()) ## Full name method output\n"
   ]
  },
  {
   "cell_type": "markdown",
   "metadata": {},
   "source": [
    "Polymorphism"
   ]
  },
  {
   "cell_type": "code",
   "execution_count": 27,
   "metadata": {},
   "outputs": [
    {
     "name": "stdout",
     "output_type": "stream",
     "text": [
      "Petrol or Diesel\n",
      "Electric Charge\n"
     ]
    }
   ],
   "source": [
    "class Car:\n",
    "    def __init__(self, brand, model):\n",
    "        self.__brand = brand  ## Private attribute\n",
    "        self.model = model\n",
    "\n",
    "    def get_brand(self):\n",
    "        return self.__brand\n",
    "\n",
    "    def set_brand(self, brand):\n",
    "        if not brand:       ## Setter method with optional validation \n",
    "            raise ValueError(\"Brand name cannot be empty!\")\n",
    "        self.__brand = brand\n",
    "\n",
    "    def fule_type(self):\n",
    "        return \"Petrol or Diesel\"\n",
    "    \n",
    "    def fullName(self):\n",
    "        return f\"{self.__brand} {self.model}\"\n",
    "\n",
    "\n",
    "class ElectricCar(Car):\n",
    "    def __init__(self, brand, model, batterySize):\n",
    "        super().__init__(brand, model)\n",
    "        self.batterySize = batterySize\n",
    "    \n",
    "    def fule_type(self):\n",
    "        return \"Electric Charge\"\n",
    "\n",
    "\n",
    "myCar1 = Car('BMW','M5',)\n",
    "print(myCar1.fule_type())  \n",
    "\n",
    "myCar2 = ElectricCar('Tata','Curve',6)\n",
    "print(myCar2.fule_type())\n"
   ]
  },
  {
   "cell_type": "code",
   "execution_count": 38,
   "metadata": {},
   "outputs": [
    {
     "name": "stdout",
     "output_type": "stream",
     "text": [
      "Cars are means of transport.\n",
      "Cars are means of transport.\n"
     ]
    }
   ],
   "source": [
    "class Car:\n",
    "    def __init__(self, brand, model):\n",
    "        self.__brand = brand  ## Private attribute\n",
    "        self.model = model\n",
    "\n",
    "    def get_brand(self):\n",
    "        return self.__brand\n",
    "\n",
    "    def set_brand(self, brand):\n",
    "        if not brand:       ## Setter method with optional validation \n",
    "            raise ValueError(\"Brand name cannot be empty!\")\n",
    "        self.__brand = brand\n",
    "\n",
    "    def fule_type(self):\n",
    "        return \"Petrol or Diesel\"\n",
    "    \n",
    "    def fullName(self):\n",
    "        return f\"{self.__brand} {self.model}\"\n",
    "\n",
    "    @staticmethod\n",
    "    def generalDescription():\n",
    "        return 'Cars are means of transport.'\n",
    "\n",
    "print(Car.generalDescription())  \n",
    "# print(Car.fullName('Volvo'))   ## will generateAttributeError: 'str' object has no attribute '_Car__brand'\n",
    "myCar1 = Car('BMW','M5')\n",
    "print(myCar1.generalDescription())  \n",
    "\n",
    "\n"
   ]
  },
  {
   "cell_type": "markdown",
   "metadata": {},
   "source": [
    "Property Decorators   (make model read only)"
   ]
  },
  {
   "cell_type": "code",
   "execution_count": 43,
   "metadata": {},
   "outputs": [
    {
     "name": "stdout",
     "output_type": "stream",
     "text": [
      "M4\n"
     ]
    }
   ],
   "source": [
    "class Car:\n",
    "    def __init__(self, brand, model):\n",
    "        self.__brand = brand  ## Private attribute\n",
    "        self.__model = model\n",
    "\n",
    "    def get_brand(self):\n",
    "        return self.__brand\n",
    "\n",
    "    def set_brand(self, brand):\n",
    "        if not brand:       ## Setter method with optional validation \n",
    "            raise ValueError(\"Brand name cannot be empty!\")\n",
    "        self.__brand = brand\n",
    "\n",
    "    def fule_type(self):\n",
    "        return \"Petrol or Diesel\"\n",
    "    \n",
    "    def fullName(self):\n",
    "        return f\"{self.__brand} {self.__model}\"\n",
    "\n",
    "    @staticmethod\n",
    "    def generalDescription():\n",
    "        return 'Cars are means of transport.'\n",
    "    \n",
    "    def model(self):\n",
    "        return self.__model\n",
    "\n",
    "\n",
    "myCar1 = Car('BMW','M5')\n",
    "myCar1.model ='M4'\n",
    "print(myCar1.model)  \n",
    "# print(myCar1.model())   ## will generate TypeError: 'str' object is not callable\n",
    "\n",
    "\n"
   ]
  },
  {
   "cell_type": "code",
   "execution_count": 49,
   "metadata": {},
   "outputs": [
    {
     "name": "stdout",
     "output_type": "stream",
     "text": [
      "M5\n"
     ]
    }
   ],
   "source": [
    "class Car:\n",
    "    def __init__(self, brand, model):\n",
    "        self.__brand = brand  ## Private attribute\n",
    "        self.__model = model\n",
    "\n",
    "    def get_brand(self):\n",
    "        return self.__brand\n",
    "\n",
    "    def set_brand(self, brand):\n",
    "        if not brand:       ## Setter method with optional validation \n",
    "            raise ValueError(\"Brand name cannot be empty!\")\n",
    "        self.__brand = brand\n",
    "\n",
    "    def fule_type(self):\n",
    "        return \"Petrol or Diesel\"\n",
    "    \n",
    "    def fullName(self):\n",
    "        return f\"{self.__brand} {self.__model}\"\n",
    "\n",
    "    @staticmethod\n",
    "    def generalDescription():\n",
    "        return 'Cars are means of transport.'\n",
    "    \n",
    "    @property               ## ensures that model must not be modified and can be access through name (ex: myCar1.model ) not method (ex: myCar1.model())\n",
    "    def model(self):\n",
    "        return self.__model\n",
    "\n",
    "\n",
    "myCar1 = Car('BMW','M5')\n",
    "# myCar1.model ='M4'          ## will generate AttributeError: can't set attribute 'model'\n",
    "print(myCar1.model)  \n",
    "# print(myCar1.model())   ## will generate TypeError: 'str' object is not callable\n",
    "\n",
    "\n"
   ]
  },
  {
   "cell_type": "markdown",
   "metadata": {},
   "source": [
    "Demonstrate use of instance() to check if myCar is instance of Car and ElectricCar"
   ]
  },
  {
   "cell_type": "code",
   "execution_count": null,
   "metadata": {},
   "outputs": [
    {
     "name": "stdout",
     "output_type": "stream",
     "text": [
      "True\n",
      "True\n"
     ]
    }
   ],
   "source": [
    "class Car:\n",
    "    def __init__(self, brand, model):\n",
    "        self.__brand = brand  ## Private attribute\n",
    "        self.__model = model\n",
    "\n",
    "    def get_brand(self):\n",
    "        return self.__brand\n",
    "\n",
    "    def set_brand(self, brand):\n",
    "        if not brand:     \n",
    "            raise ValueError(\"Brand name cannot be empty!\")\n",
    "        self.__brand = brand\n",
    "\n",
    "    def fule_type(self):\n",
    "        return \"Petrol or Diesel\"\n",
    "    \n",
    "    def fullName(self):\n",
    "        return f\"{self.__brand} {self.__model}\"\n",
    "\n",
    "    @staticmethod\n",
    "    def generalDescription():\n",
    "        return 'Cars are means of transport.'\n",
    "    \n",
    "    @property\n",
    "    def model(self):\n",
    "        return self.__model\n",
    "\n",
    "\n",
    "class ElectricCar(Car):\n",
    "    def __init__(self, brand, model, batterySize):\n",
    "        super().__init__(brand, model)\n",
    "        self.batterySize = batterySize\n",
    "    \n",
    "    def fule_type(self):\n",
    "        return \"Electric Charge\" \n",
    "\n",
    "\n",
    "myCar = ElectricCar('Tata','Curve',6)\n",
    "\n",
    "print(isinstance(myCar,Car))\n",
    "print(isinstance(myCar,ElectricCar))\n"
   ]
  },
  {
   "cell_type": "markdown",
   "metadata": {},
   "source": [
    "Create two classes battery and engine and let the ElectricCar classes inherit from both, demonstrating multiple inheritance."
   ]
  },
  {
   "cell_type": "code",
   "execution_count": 51,
   "metadata": {},
   "outputs": [
    {
     "name": "stdout",
     "output_type": "stream",
     "text": [
      "Battery Vichle \n",
      "Engine Vichle \n"
     ]
    }
   ],
   "source": [
    "class Car:\n",
    "    def __init__(self, brand, model):\n",
    "        self.__brand = brand  ## Private attribute\n",
    "        self.__model = model\n",
    "\n",
    "    def get_brand(self):\n",
    "        return self.__brand\n",
    "\n",
    "    def set_brand(self, brand):\n",
    "        if not brand:     \n",
    "            raise ValueError(\"Brand name cannot be empty!\")\n",
    "        self.__brand = brand\n",
    "\n",
    "    def fule_type(self):\n",
    "        return \"Petrol or Diesel\"\n",
    "    \n",
    "    def fullName(self):\n",
    "        return f\"{self.__brand} {self.__model}\"\n",
    "\n",
    "    @staticmethod\n",
    "    def generalDescription():\n",
    "        return 'Cars are means of transport.'\n",
    "    \n",
    "    @property\n",
    "    def model(self):\n",
    "        return self.__model\n",
    "\n",
    "\n",
    "class ElectricCar(Car):\n",
    "    def __init__(self, brand, model, batterySize):\n",
    "        super().__init__(brand, model)\n",
    "        self.batterySize = batterySize\n",
    "    \n",
    "    def fule_type(self):\n",
    "        return \"Electric Charge\" \n",
    "\n",
    "class Battery:\n",
    "    def battery_info(self):\n",
    "        return \"Battery Vichle \"\n",
    "    \n",
    "class Engine:\n",
    "    def engine_info(self):\n",
    "        return \"Engine Vichle \"\n",
    "    \n",
    "class ElectricCarTwo(Battery,Engine,Car):\n",
    "    pass\n",
    "\n",
    "myCar = ElectricCarTwo('Tata','Curve')\n",
    "\n",
    "print(myCar.battery_info())\n",
    "print(myCar.engine_info())\n"
   ]
  }
 ],
 "metadata": {
  "kernelspec": {
   "display_name": "Python 3",
   "language": "python",
   "name": "python3"
  },
  "language_info": {
   "codemirror_mode": {
    "name": "ipython",
    "version": 3
   },
   "file_extension": ".py",
   "mimetype": "text/x-python",
   "name": "python",
   "nbconvert_exporter": "python",
   "pygments_lexer": "ipython3",
   "version": "3.10.8"
  }
 },
 "nbformat": 4,
 "nbformat_minor": 2
}

{
 "cells": [
  {
   "cell_type": "markdown",
   "metadata": {},
   "source": [
    "write a decorator that measures time a function take to execute"
   ]
  },
  {
   "cell_type": "code",
   "execution_count": 2,
   "metadata": {},
   "outputs": [
    {
     "name": "stdout",
     "output_type": "stream",
     "text": [
      "exampleFunc ran in 3.0059139728546143 time\n",
      "exampleFunc ran in 2.0107014179229736 time\n",
      "exampleFunc ran in 3.0147359371185303 time\n"
     ]
    }
   ],
   "source": [
    "import time\n",
    "\n",
    "def timer(func):\n",
    "    def wrapper(*args,**kwargs):\n",
    "        start = time.time()\n",
    "        result = func(*args,**kwargs)\n",
    "        end = time.time()\n",
    "        print(f'{func.__name__} ran in {end-start} time')\n",
    "        return  result\n",
    "    return wrapper\n",
    "\n",
    "\n",
    "@timer\n",
    "def exampleFunc(n):\n",
    "    time.sleep(n)\n",
    "    \n",
    "exampleFunc(3)\n",
    "exampleFunc(2)\n",
    "exampleFunc(3)"
   ]
  },
  {
   "cell_type": "markdown",
   "metadata": {},
   "source": [
    "Create a decorator to print a function name and the value of its arguments everytime the function is called"
   ]
  },
  {
   "cell_type": "code",
   "execution_count": 17,
   "metadata": {},
   "outputs": [
    {
     "name": "stdout",
     "output_type": "stream",
     "text": [
      "Calling: greet, with args: ('Siddharth',) and kwargs: {'greeting': 'Namaskar'} \n",
      "Namaskar, Siddharth\n"
     ]
    }
   ],
   "source": [
    "def debug(func):\n",
    "    def wrapper(*args,**kwargs):\n",
    "        args_value = ', '.join(str(args) for arg in args)\n",
    "        kwargs_value = ', '.join(f'{k}={v}' for k,v in kwargs.items())\n",
    "        print(f'Calling: {func.__name__}, with args: {args} and kwargs: {kwargs} ')\n",
    "        return func(*args,**kwargs)\n",
    "    return wrapper\n",
    "\n",
    "@debug\n",
    "def greet(name,greeting=\"Hello\"):\n",
    "    return (f'{greeting}, {name}')\n",
    "    \n",
    "print(greet(\"Siddharth\",greeting='Namaskar'))"
   ]
  },
  {
   "cell_type": "markdown",
   "metadata": {},
   "source": [
    "Implement a decorator that cache the return value of a function,so that when it called with same argument, the cache value is returned instead of re-executing the funciton."
   ]
  },
  {
   "cell_type": "code",
   "execution_count": 20,
   "metadata": {},
   "outputs": [
    {
     "name": "stdout",
     "output_type": "stream",
     "text": [
      "{}\n",
      "5\n",
      "6\n",
      "5\n",
      "3\n",
      "5\n"
     ]
    }
   ],
   "source": [
    "import time\n",
    "\n",
    "def cache(func):\n",
    "    cache_value = {}\n",
    "    print(cache_value)\n",
    "    def  wrapper(*args):\n",
    "        if args in cache_value:\n",
    "            return cache_value[args]\n",
    "        result = func(*args)\n",
    "        cache_value[args] = result\n",
    "        return result\n",
    "    return wrapper\n",
    "\n",
    "@cache\n",
    "def long(a,b):\n",
    "    time.sleep(4)\n",
    "    return a+b\n",
    "\n",
    "print(long(2,3))\n",
    "print(long(3,3))\n",
    "print(long(2,3))\n",
    "print(long(1,2))\n",
    "print(long(2,3))"
   ]
  }
 ],
 "metadata": {
  "kernelspec": {
   "display_name": "Python 3",
   "language": "python",
   "name": "python3"
  },
  "language_info": {
   "codemirror_mode": {
    "name": "ipython",
    "version": 3
   },
   "file_extension": ".py",
   "mimetype": "text/x-python",
   "name": "python",
   "nbconvert_exporter": "python",
   "pygments_lexer": "ipython3",
   "version": "3.10.8"
  }
 },
 "nbformat": 4,
 "nbformat_minor": 2
}

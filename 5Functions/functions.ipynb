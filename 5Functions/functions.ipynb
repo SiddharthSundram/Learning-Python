{
 "cells": [
  {
   "cell_type": "markdown",
   "metadata": {},
   "source": [
    "# Function"
   ]
  },
  {
   "cell_type": "code",
   "execution_count": 1,
   "metadata": {},
   "outputs": [
    {
     "name": "stdout",
     "output_type": "stream",
     "text": [
      "16\n"
     ]
    }
   ],
   "source": [
    "# Syntax\n",
    "def square(num):\n",
    "    return num ** 2\n",
    "print(square(4))"
   ]
  },
  {
   "cell_type": "code",
   "execution_count": 3,
   "metadata": {},
   "outputs": [
    {
     "name": "stdout",
     "output_type": "stream",
     "text": [
      "3\n"
     ]
    }
   ],
   "source": [
    "def add(a,b):\n",
    "    return a+b\n",
    "print(add(1,2))"
   ]
  },
  {
   "cell_type": "code",
   "execution_count": 5,
   "metadata": {},
   "outputs": [
    {
     "name": "stdout",
     "output_type": "stream",
     "text": [
      "aaa\n",
      "3\n"
     ]
    }
   ],
   "source": [
    "def mul(a,b):\n",
    "    return a*b\n",
    "print(mul(3,'a'))\n",
    "print(mul(1,3))"
   ]
  },
  {
   "cell_type": "code",
   "execution_count": 8,
   "metadata": {},
   "outputs": [
    {
     "name": "stdout",
     "output_type": "stream",
     "text": [
      "Area 28.274333882308138 and Circumference 18.84955592153876\n"
     ]
    }
   ],
   "source": [
    "def circle(r):\n",
    "    import math\n",
    "    circ = 2 * math.pi * r\n",
    "    area =  math.pi *( r **2)\n",
    "    return area, circ\n",
    "a,c = circle(3)\n",
    "print('Area',a,'and Circumference',c)\n",
    "    "
   ]
  },
  {
   "cell_type": "code",
   "execution_count": 11,
   "metadata": {},
   "outputs": [
    {
     "name": "stdout",
     "output_type": "stream",
     "text": [
      "Hello User\n",
      "Hello Siddharth\n"
     ]
    }
   ],
   "source": [
    "def circle(r=\"User\"):\n",
    "    return \"Hello \" + r\n",
    "\n",
    "print(circle())\n",
    "print(circle(\"Siddharth\"))\n",
    "    "
   ]
  },
  {
   "cell_type": "code",
   "execution_count": 12,
   "metadata": {},
   "outputs": [
    {
     "name": "stdout",
     "output_type": "stream",
     "text": [
      "27\n"
     ]
    }
   ],
   "source": [
    "cube = lambda x:x**3\n",
    "print(cube(3))"
   ]
  },
  {
   "cell_type": "code",
   "execution_count": 13,
   "metadata": {},
   "outputs": [
    {
     "name": "stdout",
     "output_type": "stream",
     "text": [
      "15\n",
      "6\n",
      "45\n"
     ]
    }
   ],
   "source": [
    "def sumall(*args):\n",
    "    print(sum(args))\n",
    "sumall(1,2,3,4,5) \n",
    "sumall(1,2,3) \n",
    "sumall(1,2,3,6,7,8,9,0,2,3,4) "
   ]
  },
  {
   "cell_type": "code",
   "execution_count": 15,
   "metadata": {},
   "outputs": [
    {
     "name": "stdout",
     "output_type": "stream",
     "text": [
      "Siddharth Mind\n",
      "Siddharth Mind\n"
     ]
    }
   ],
   "source": [
    "def printKwargs(name ,power):\n",
    "    print(name,power)\n",
    "printKwargs(name='Siddharth',power=\"Mind\")\n",
    "printKwargs(power=\"Mind\",name='Siddharth')"
   ]
  },
  {
   "cell_type": "code",
   "execution_count": 17,
   "metadata": {},
   "outputs": [
    {
     "name": "stdout",
     "output_type": "stream",
     "text": [
      "power :Mind\n",
      "name :Siddharth\n",
      "\n",
      "\n",
      "name :Siddharth\n",
      "power :Mind\n",
      "age :20\n",
      "height :6ft\n"
     ]
    }
   ],
   "source": [
    "def printKwargs(**kwargs):\n",
    "    for key,value in kwargs.items():\n",
    "        print(f\"{key} :{value}\")\n",
    "printKwargs(power=\"Mind\",name='Siddharth')\n",
    "print(\"\\n\")\n",
    "printKwargs(name='Siddharth',power=\"Mind\",age=20,height='6ft')"
   ]
  },
  {
   "cell_type": "code",
   "execution_count": 19,
   "metadata": {},
   "outputs": [
    {
     "data": {
      "text/plain": [
       "2"
      ]
     },
     "execution_count": 19,
     "metadata": {},
     "output_type": "execute_result"
    }
   ],
   "source": [
    "def evenGenerator(limit):\n",
    "    for i in range(2,limit+1,2):\n",
    "        return i\n",
    "evenGenerator(10)"
   ]
  },
  {
   "cell_type": "code",
   "execution_count": 23,
   "metadata": {},
   "outputs": [
    {
     "name": "stdout",
     "output_type": "stream",
     "text": [
      "2\n",
      "4\n",
      "6\n",
      "8\n",
      "10\n"
     ]
    }
   ],
   "source": [
    "def evenGenerator(limit):\n",
    "    for i in range(2,limit+1,2):\n",
    "        yield i\n",
    "for num in evenGenerator(10):\n",
    "    print(num)\n",
    "\n"
   ]
  },
  {
   "cell_type": "code",
   "execution_count": 24,
   "metadata": {},
   "outputs": [
    {
     "name": "stdout",
     "output_type": "stream",
     "text": [
      "120\n"
     ]
    }
   ],
   "source": [
    "def fact(n):\n",
    "    if n == 0:\n",
    "        return 1\n",
    "    else:\n",
    "        return n  * fact(n-1)\n",
    "print(fact(5))"
   ]
  },
  {
   "cell_type": "markdown",
   "metadata": {},
   "source": [
    "Clouser "
   ]
  },
  {
   "cell_type": "code",
   "execution_count": 6,
   "metadata": {},
   "outputs": [
    {
     "name": "stdout",
     "output_type": "stream",
     "text": [
      "<function func at 0x000001DE60897B50>\n",
      "<function func.<locals>.gun at 0x000001DE60896E60>\n",
      "8\n",
      "27\n"
     ]
    }
   ],
   "source": [
    "def func(num):\n",
    "    def gun(x):\n",
    "        return x ** num\n",
    "    return gun\n",
    "\n",
    "f1 = func\n",
    "f2 = func(3)\n",
    "\n",
    "print(f1)\n",
    "print(f2)\n",
    "\n",
    "print(f2(2))\n",
    "print(f2(3))"
   ]
  },
  {
   "cell_type": "code",
   "execution_count": null,
   "metadata": {},
   "outputs": [],
   "source": []
  }
 ],
 "metadata": {
  "kernelspec": {
   "display_name": "Python 3",
   "language": "python",
   "name": "python3"
  },
  "language_info": {
   "codemirror_mode": {
    "name": "ipython",
    "version": 3
   },
   "file_extension": ".py",
   "mimetype": "text/x-python",
   "name": "python",
   "nbconvert_exporter": "python",
   "pygments_lexer": "ipython3",
   "version": "3.10.8"
  }
 },
 "nbformat": 4,
 "nbformat_minor": 2
}

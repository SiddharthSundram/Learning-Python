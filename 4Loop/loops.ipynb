{
 "cells": [
  {
   "cell_type": "markdown",
   "metadata": {},
   "source": [
    "# Loops\n"
   ]
  },
  {
   "cell_type": "markdown",
   "metadata": {
    "vscode": {
     "languageId": "plaintext"
    }
   },
   "source": [
    "syntax:\n",
    "\n",
    "for i in range(1,10):\n",
    "    statement\n",
    "\n",
    "for i in list:\n",
    "    statement"
   ]
  },
  {
   "cell_type": "markdown",
   "metadata": {},
   "source": [
    "Count positive number in a list"
   ]
  },
  {
   "cell_type": "code",
   "execution_count": 2,
   "metadata": {},
   "outputs": [
    {
     "name": "stdout",
     "output_type": "stream",
     "text": [
      "Count of positive number in the list is:  4\n"
     ]
    }
   ],
   "source": [
    "lst1 = [1,2,-3,-4,5,-6,-7,8,-9]\n",
    "\n",
    "count = 0\n",
    "for i in lst1:\n",
    "    if i > 0:\n",
    "        count += 1\n",
    "\n",
    "print(\"Count of positive number in the list is: \",count)"
   ]
  },
  {
   "cell_type": "markdown",
   "metadata": {},
   "source": [
    "Sum of even number"
   ]
  },
  {
   "cell_type": "code",
   "execution_count": 4,
   "metadata": {},
   "outputs": [
    {
     "name": "stdout",
     "output_type": "stream",
     "text": [
      "Sum of even number upto n:  30\n"
     ]
    }
   ],
   "source": [
    "limit = int(input(\"Enter the limit: \"))\n",
    "result = 0\n",
    "for i in range(1 ,limit+1):\n",
    "    if i % 2 == 0:\n",
    "        result += i\n",
    "print(\"Sum of even number upto n: \",result)"
   ]
  },
  {
   "cell_type": "markdown",
   "metadata": {},
   "source": [
    "Multliplication table for a given number upto 10 but skip 5th iteration"
   ]
  },
  {
   "cell_type": "code",
   "execution_count": 6,
   "metadata": {},
   "outputs": [
    {
     "name": "stdout",
     "output_type": "stream",
     "text": [
      "5 X 1 = 5\n",
      "5 X 2 = 10\n",
      "5 X 3 = 15\n",
      "5 X 4 = 20\n",
      "5 X 6 = 30\n",
      "5 X 7 = 35\n",
      "5 X 8 = 40\n",
      "5 X 9 = 45\n",
      "5 X 10 = 50\n"
     ]
    }
   ],
   "source": [
    "tableNum = int(input(\"Enter a number for table: \"))\n",
    "for i in range(1,11):\n",
    "    if i == 5:\n",
    "        continue\n",
    "    print(f\"{tableNum} X {i} = {tableNum*i}\")"
   ]
  },
  {
   "cell_type": "markdown",
   "metadata": {},
   "source": [
    "Reverse a string using a string\n"
   ]
  },
  {
   "cell_type": "code",
   "execution_count": 11,
   "metadata": {},
   "outputs": [
    {
     "name": "stdout",
     "output_type": "stream",
     "text": [
      "olleh\n"
     ]
    }
   ],
   "source": [
    "myStr = input(\"Enter a string: \")\n",
    "rev = ''\n",
    "length = len(myStr)\n",
    "for i in range(length):\n",
    "    length = length -1\n",
    "    rev += myStr[length]\n",
    "print(rev)\n",
    "    "
   ]
  },
  {
   "cell_type": "code",
   "execution_count": 15,
   "metadata": {},
   "outputs": [
    {
     "name": "stdout",
     "output_type": "stream",
     "text": [
      "Reversed String:  olleH\n",
      "Original String:  Hello\n"
     ]
    }
   ],
   "source": [
    "myStr = input(\"Enter a string: \")\n",
    "rev = ''\n",
    "org = ''\n",
    "for char in myStr:\n",
    "    rev = char + rev\n",
    "    org = org + char\n",
    "print(\"Reversed String: \",rev)\n",
    "print(\"Original String: \",org)\n",
    "    "
   ]
  },
  {
   "cell_type": "markdown",
   "metadata": {},
   "source": [
    "Find the first non repeated character"
   ]
  },
  {
   "cell_type": "code",
   "execution_count": 20,
   "metadata": {},
   "outputs": [
    {
     "name": "stdout",
     "output_type": "stream",
     "text": [
      "k\n"
     ]
    }
   ],
   "source": [
    "myStr = input(\"Enter a string: \")\n",
    "for i in myStr:\n",
    "    if (myStr.count(i) == 1):\n",
    "        print(i)\n",
    "        break"
   ]
  },
  {
   "cell_type": "markdown",
   "metadata": {},
   "source": [
    "Factorial of a number using while loop"
   ]
  },
  {
   "cell_type": "code",
   "execution_count": 36,
   "metadata": {},
   "outputs": [
    {
     "name": "stdout",
     "output_type": "stream",
     "text": [
      "3628800\n"
     ]
    }
   ],
   "source": [
    "num = int(input(\"Enter a number: \"))\n",
    "fact = 1\n",
    "if num < 0 :\n",
    "    print(\"Please enter value greater than 1.\")\n",
    "else:\n",
    "    while num > 0:\n",
    "        fact = fact * num\n",
    "        num = num - 1\n",
    "    print(fact)\n",
    "    "
   ]
  },
  {
   "cell_type": "markdown",
   "metadata": {},
   "source": [
    "Validate Input: Keep asking the user for a input untill they enter a number between 1 and 10"
   ]
  },
  {
   "cell_type": "code",
   "execution_count": 39,
   "metadata": {},
   "outputs": [
    {
     "name": "stdout",
     "output_type": "stream",
     "text": [
      "Try again.\n",
      "Try again.\n",
      "Try again.\n",
      "Try again.\n",
      "You did it.\n"
     ]
    }
   ],
   "source": [
    "while True:\n",
    "    num = int(input(\"Enter a number: \"))\n",
    "    if 1 <= num <= 10:\n",
    "        print('You did it.')\n",
    "        break\n",
    "    else:\n",
    "        print('Try again.')"
   ]
  },
  {
   "cell_type": "markdown",
   "metadata": {},
   "source": [
    "Check Prime Number"
   ]
  },
  {
   "cell_type": "code",
   "execution_count": 15,
   "metadata": {},
   "outputs": [
    {
     "name": "stdout",
     "output_type": "stream",
     "text": [
      "7 is prime.\n"
     ]
    }
   ],
   "source": [
    "num = int(input(\"Enter a number: \"))\n",
    "count = 0\n",
    "for i in range(2,num+1):\n",
    "    if num % i == 0:\n",
    "        count += 1\n",
    "if count == 1:\n",
    "    print(f\"{num} is prime.\")\n",
    "else:\n",
    "    print(f\"{num} is not a prime.\")"
   ]
  },
  {
   "cell_type": "code",
   "execution_count": null,
   "metadata": {},
   "outputs": [
    {
     "name": "stdout",
     "output_type": "stream",
     "text": [
      "29 is prime.\n"
     ]
    }
   ],
   "source": [
    "num = int(input(\"Enter a number: \"))\n",
    "isPrime = True\n",
    "for i in range(2,num):\n",
    "    if num % i == 0:\n",
    "        isPrime = False\n",
    "        break\n",
    "if isPrime:\n",
    "    print(f\"{num} is prime.\")\n",
    "else:\n",
    "    print(f\"{num} is not a prime.\")"
   ]
  },
  {
   "cell_type": "code",
   "execution_count": 34,
   "metadata": {},
   "outputs": [
    {
     "name": "stdout",
     "output_type": "stream",
     "text": [
      "12 is not a prime.\n"
     ]
    }
   ],
   "source": [
    "num = int(input(\"Enter a number: \"))\n",
    "isPrime = True\n",
    "i = 2\n",
    "\n",
    "if num <= 1:\n",
    "    isPrime = False\n",
    "\n",
    "while i <= num // 2:\n",
    "    if num % i == 0:\n",
    "        isPrime = False\n",
    "        break\n",
    "    i += 1\n",
    "if isPrime:\n",
    "    print(f\"{num} is prime.\")\n",
    "else:\n",
    "    print(f\"{num} is not a prime.\")\n",
    "    "
   ]
  },
  {
   "cell_type": "markdown",
   "metadata": {},
   "source": [
    "Check if all element in the list are unique if duplicate found exit the loop and print the duplicate"
   ]
  },
  {
   "cell_type": "code",
   "execution_count": null,
   "metadata": {},
   "outputs": [
    {
     "name": "stdout",
     "output_type": "stream",
     "text": [
      "mango\n"
     ]
    }
   ],
   "source": [
    "item = ['mango','orange','paapya','mango','lime']\n",
    "for i in item:\n",
    "    if item.count(i) > 1:\n",
    "        print(i)\n",
    "        break\n",
    "    "
   ]
  },
  {
   "cell_type": "code",
   "execution_count": 44,
   "metadata": {},
   "outputs": [
    {
     "name": "stdout",
     "output_type": "stream",
     "text": [
      "Duplicate:  mango\n"
     ]
    }
   ],
   "source": [
    "item = ['mango','orange','paapya','mango','lime']\n",
    "uniqueItem = set()\n",
    "for i in item:\n",
    "    if i in uniqueItem:\n",
    "        print(\"Duplicate: \",i)\n",
    "        break\n",
    "    uniqueItem.add(i)"
   ]
  },
  {
   "cell_type": "markdown",
   "metadata": {},
   "source": [
    "Implement the exponential backoff strategy that doubles the wait time between retries starting from 1 seconds but stop after 5 retries."
   ]
  },
  {
   "cell_type": "code",
   "execution_count": 46,
   "metadata": {},
   "outputs": [
    {
     "name": "stdout",
     "output_type": "stream",
     "text": [
      "Attemp is 1 and wait time is 1\n",
      "Attemp is 2 and wait time is 2\n",
      "Attemp is 3 and wait time is 4\n",
      "Attemp is 4 and wait time is 8\n",
      "Attemp is 5 and wait time is 16\n"
     ]
    }
   ],
   "source": [
    "import time\n",
    "\n",
    "waitTime = 1\n",
    "maxRetries = 5\n",
    "attempts = 0\n",
    "\n",
    "while attempts < maxRetries:\n",
    "    print(f\"Attemp is {attempts+1} and wait time is {waitTime}\")\n",
    "    time.sleep(waitTime)\n",
    "    waitTime *= 2\n",
    "    attempts += 1"
   ]
  },
  {
   "cell_type": "markdown",
   "metadata": {},
   "source": [
    "### Behind the loop"
   ]
  },
  {
   "cell_type": "code",
   "execution_count": null,
   "metadata": {},
   "outputs": [
    {
     "name": "stdout",
     "output_type": "stream",
     "text": [
      "<list_iterator object at 0x00000215BC413820>\n",
      "1\n",
      "2\n",
      "3\n",
      "4\n",
      "5\n"
     ]
    },
    {
     "ename": "StopIteration",
     "evalue": "",
     "output_type": "error",
     "traceback": [
      "\u001b[1;31m---------------------------------------------------------------------------\u001b[0m",
      "\u001b[1;31mStopIteration\u001b[0m                             Traceback (most recent call last)",
      "Cell \u001b[1;32mIn[52], line 11\u001b[0m\n\u001b[0;32m      9\u001b[0m \u001b[38;5;28mprint\u001b[39m(i\u001b[38;5;241m.\u001b[39m\u001b[38;5;21m__next__\u001b[39m())\n\u001b[0;32m     10\u001b[0m \u001b[38;5;28mprint\u001b[39m(i\u001b[38;5;241m.\u001b[39m\u001b[38;5;21m__next__\u001b[39m())\n\u001b[1;32m---> 11\u001b[0m \u001b[38;5;28mprint\u001b[39m(\u001b[43mi\u001b[49m\u001b[38;5;241;43m.\u001b[39;49m\u001b[38;5;21;43m__next__\u001b[39;49m\u001b[43m(\u001b[49m\u001b[43m)\u001b[49m)\n",
      "\u001b[1;31mStopIteration\u001b[0m: "
     ]
    }
   ],
   "source": [
    "mylst = [1,2,3,4,5]\n",
    "\n",
    "i = iter(mylst)\n",
    "print(i)\n",
    "\n",
    "print(i.__next__())\n",
    "print(i.__next__())\n",
    "print(i.__next__())\n",
    "print(i.__next__())\n",
    "print(i.__next__())\n",
    "print(i.__next__())  ## at last it will print StopIteration because we are going thorough manually"
   ]
  }
 ],
 "metadata": {
  "kernelspec": {
   "display_name": "Python 3",
   "language": "python",
   "name": "python3"
  },
  "language_info": {
   "codemirror_mode": {
    "name": "ipython",
    "version": 3
   },
   "file_extension": ".py",
   "mimetype": "text/x-python",
   "name": "python",
   "nbconvert_exporter": "python",
   "pygments_lexer": "ipython3",
   "version": "3.10.8"
  }
 },
 "nbformat": 4,
 "nbformat_minor": 2
}
